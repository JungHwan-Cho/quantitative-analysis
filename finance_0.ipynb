{
  "nbformat": 4,
  "nbformat_minor": 0,
  "metadata": {
    "colab": {
      "name": "finance_0.ipynb",
      "provenance": [],
      "collapsed_sections": [],
      "authorship_tag": "ABX9TyNaOOlEwcSgPGdW2GcxJC4B",
      "include_colab_link": true
    },
    "kernelspec": {
      "name": "python3",
      "display_name": "Python 3"
    }
  },
  "cells": [
    {
      "cell_type": "markdown",
      "metadata": {
        "id": "view-in-github",
        "colab_type": "text"
      },
      "source": [
        "<a href=\"https://colab.research.google.com/github/JungHwan-Cho/quantitative-analysis/blob/main/finance_0.ipynb\" target=\"_parent\"><img src=\"https://colab.research.google.com/assets/colab-badge.svg\" alt=\"Open In Colab\"/></a>"
      ]
    },
    {
      "cell_type": "code",
      "metadata": {
        "id": "uaVw16dZd02j"
      },
      "source": [
        "S0 = 100.\n",
        "K = 105.\n",
        "T = 1.0\n",
        "r = 0.05\n",
        "sigma = 0.2"
      ],
      "execution_count": 3,
      "outputs": []
    },
    {
      "cell_type": "code",
      "metadata": {
        "id": "1MZu_vibjXk_"
      },
      "source": [
        "from numpy import *\n",
        "\n",
        "I = 100000\n",
        "\n",
        "z = random.standard_normal(I)\n",
        "ST = S0 * exp((r - 0.5 * sigma ** 2) * T + sigma * sqrt(T) * z)\n",
        "hT = maximum(ST - K, 0)\n",
        "C0 = exp(-r * T) * sum(hT) / I"
      ],
      "execution_count": 4,
      "outputs": []
    },
    {
      "cell_type": "code",
      "metadata": {
        "colab": {
          "base_uri": "https://localhost:8080/"
        },
        "id": "vn5DDRBEjpIj",
        "outputId": "c5e8ddef-5f30-4e1e-c3f8-8a8d0b921e52"
      },
      "source": [
        "print(\"Value of the European Call Option %5.3f\" % C0)"
      ],
      "execution_count": 5,
      "outputs": [
        {
          "output_type": "stream",
          "text": [
            "Value of the European Call Option 8.032\n"
          ],
          "name": "stdout"
        }
      ]
    },
    {
      "cell_type": "markdown",
      "metadata": {
        "id": "GYSclg-bknYo"
      },
      "source": [
        "# BSM MCS EURO\n",
        "블랙 숄즈 머튼 모형을 사용한 유러피안 콜 옵션의 몬테카를로 방식 가격 계산\n",
        "\n",
        "$S_T = S_0 \\exp((r - 0.5\\sigma^2) T + \\sigma \\sqrt{T} z)$"
      ]
    },
    {
      "cell_type": "code",
      "metadata": {
        "colab": {
          "base_uri": "https://localhost:8080/"
        },
        "id": "MXfsHojwj7Mr",
        "outputId": "a4c99955-aa52-4b54-afda-3b038600f06e"
      },
      "source": [
        "import numpy as np\n",
        "\n",
        "# Parameters\n",
        "S0 = 100. # 초기의 주가지수\n",
        "K = 105.  # 행사가\n",
        "T = 1.0   # 만기까지 남은 시간\n",
        "r = 0.05  # 무위험 이자율\n",
        "sigma = 0.2 # 변동성\n",
        "\n",
        "I = 100000 # 시뮬레이션 횟수\n",
        "\n",
        "# 가격결정 알고리즘\n",
        "z = np.random.standard_normal(I)  # 의사 난수\n",
        "ST = S0 * np.exp((r - 0.5 * sigma ** 2) * T + sigma * np.sqrt(T) * z)\n",
        "# 만기 시의 주가지수\n",
        "hT = np.maximum(ST - K, 0)  # 만기 시의 내재 가치\n",
        "C0 = np.exp(-r * T) * np.sum(hT) / I  # 몬테카를로 추정식\n",
        "\n",
        "# 결과 출력\n",
        "print(\"Value of the European Call Option %5.3f\" % C0)"
      ],
      "execution_count": 6,
      "outputs": [
        {
          "output_type": "stream",
          "text": [
            "Value of the European Call Option 7.983\n"
          ],
          "name": "stdout"
        }
      ]
    },
    {
      "cell_type": "markdown",
      "metadata": {
        "id": "leCIct2on0nu"
      },
      "source": [
        "Google"
      ]
    },
    {
      "cell_type": "code",
      "metadata": {
        "id": "bwAgEa5mllkJ"
      },
      "source": [
        "import numpy as np\n",
        "import pandas as pd\n",
        "from pandas_datareader import data as web"
      ],
      "execution_count": 7,
      "outputs": []
    },
    {
      "cell_type": "code",
      "metadata": {
        "colab": {
          "base_uri": "https://localhost:8080/",
          "height": 235
        },
        "id": "-vDDtJ2-n7tT",
        "outputId": "ffc39227-3db6-4be6-e6fe-a1c4c312b06c"
      },
      "source": [
        "yah = web.DataReader('GOOG', data_source='yahoo', start='3/14/2009', end='4/14/2014')\n",
        "yah.tail()"
      ],
      "execution_count": 8,
      "outputs": [
        {
          "output_type": "execute_result",
          "data": {
            "text/html": [
              "<div>\n",
              "<style scoped>\n",
              "    .dataframe tbody tr th:only-of-type {\n",
              "        vertical-align: middle;\n",
              "    }\n",
              "\n",
              "    .dataframe tbody tr th {\n",
              "        vertical-align: top;\n",
              "    }\n",
              "\n",
              "    .dataframe thead th {\n",
              "        text-align: right;\n",
              "    }\n",
              "</style>\n",
              "<table border=\"1\" class=\"dataframe\">\n",
              "  <thead>\n",
              "    <tr style=\"text-align: right;\">\n",
              "      <th></th>\n",
              "      <th>High</th>\n",
              "      <th>Low</th>\n",
              "      <th>Open</th>\n",
              "      <th>Close</th>\n",
              "      <th>Volume</th>\n",
              "      <th>Adj Close</th>\n",
              "    </tr>\n",
              "    <tr>\n",
              "      <th>Date</th>\n",
              "      <th></th>\n",
              "      <th></th>\n",
              "      <th></th>\n",
              "      <th></th>\n",
              "      <th></th>\n",
              "      <th></th>\n",
              "    </tr>\n",
              "  </thead>\n",
              "  <tbody>\n",
              "    <tr>\n",
              "      <th>2014-04-08</th>\n",
              "      <td>553.480408</td>\n",
              "      <td>540.127075</td>\n",
              "      <td>541.114380</td>\n",
              "      <td>553.380676</td>\n",
              "      <td>3151228.0</td>\n",
              "      <td>553.380676</td>\n",
              "    </tr>\n",
              "    <tr>\n",
              "      <th>2014-04-09</th>\n",
              "      <td>563.822021</td>\n",
              "      <td>551.436035</td>\n",
              "      <td>558.087769</td>\n",
              "      <td>562.595398</td>\n",
              "      <td>3330820.0</td>\n",
              "      <td>562.595398</td>\n",
              "    </tr>\n",
              "    <tr>\n",
              "      <th>2014-04-10</th>\n",
              "      <td>563.453064</td>\n",
              "      <td>538.421753</td>\n",
              "      <td>563.453064</td>\n",
              "      <td>539.468872</td>\n",
              "      <td>4036853.0</td>\n",
              "      <td>539.468872</td>\n",
              "    </tr>\n",
              "    <tr>\n",
              "      <th>2014-04-11</th>\n",
              "      <td>538.521484</td>\n",
              "      <td>525.088379</td>\n",
              "      <td>531.091858</td>\n",
              "      <td>529.147217</td>\n",
              "      <td>3924846.0</td>\n",
              "      <td>529.147217</td>\n",
              "    </tr>\n",
              "    <tr>\n",
              "      <th>2014-04-14</th>\n",
              "      <td>542.610291</td>\n",
              "      <td>528.110046</td>\n",
              "      <td>536.776306</td>\n",
              "      <td>531.061951</td>\n",
              "      <td>2575050.0</td>\n",
              "      <td>531.061951</td>\n",
              "    </tr>\n",
              "  </tbody>\n",
              "</table>\n",
              "</div>"
            ],
            "text/plain": [
              "                  High         Low  ...     Volume   Adj Close\n",
              "Date                                ...                       \n",
              "2014-04-08  553.480408  540.127075  ...  3151228.0  553.380676\n",
              "2014-04-09  563.822021  551.436035  ...  3330820.0  562.595398\n",
              "2014-04-10  563.453064  538.421753  ...  4036853.0  539.468872\n",
              "2014-04-11  538.521484  525.088379  ...  3924846.0  529.147217\n",
              "2014-04-14  542.610291  528.110046  ...  2575050.0  531.061951\n",
              "\n",
              "[5 rows x 6 columns]"
            ]
          },
          "metadata": {
            "tags": []
          },
          "execution_count": 8
        }
      ]
    },
    {
      "cell_type": "code",
      "metadata": {
        "id": "MaIBJvOKoKmz"
      },
      "source": [
        "yah['Log_Ret'] = np.log(yah['Close'] / yah['Close'].shift(1))\n",
        "yah['Volatility'] = yah['Log_Ret'].rolling(window=252,\n",
        "                                           center=False).std() * np.sqrt(252)"
      ],
      "execution_count": 9,
      "outputs": []
    },
    {
      "cell_type": "code",
      "metadata": {
        "colab": {
          "base_uri": "https://localhost:8080/",
          "height": 424
        },
        "id": "GDGaZD33pxwb",
        "outputId": "47049008-1bbc-4fdf-9aa5-4b72f2fcd758"
      },
      "source": [
        "%matplotlib inline\n",
        "yah[['Close', 'Volatility']].plot(subplots=True, color='blue', figsize=(8, 6))"
      ],
      "execution_count": 12,
      "outputs": [
        {
          "output_type": "execute_result",
          "data": {
            "text/plain": [
              "array([<matplotlib.axes._subplots.AxesSubplot object at 0x7fe1e1933198>,\n",
              "       <matplotlib.axes._subplots.AxesSubplot object at 0x7fe1e18f0fd0>],\n",
              "      dtype=object)"
            ]
          },
          "metadata": {
            "tags": []
          },
          "execution_count": 12
        },
        {
          "output_type": "display_data",
          "data": {
            "image/png": "[encoded data removed]",
            "text/plain": [
              "<Figure size 576x432 with 2 Axes>"
            ]
          },
          "metadata": {
            "tags": [],
            "needs_background": "light"
          }
        }
      ]
    },
    {
      "cell_type": "markdown",
      "metadata": {
        "id": "CLWKmtfOrYCB"
      },
      "source": [
        "## 성능 개선 가능"
      ]
    },
    {
      "cell_type": "code",
      "metadata": {
        "colab": {
          "base_uri": "https://localhost:8080/"
        },
        "id": "9vhcLAMJqv8d",
        "outputId": "72ce2eb1-540c-4e60-a6f9-8596756e150d"
      },
      "source": [
        "loops = 25000000\n",
        "from math import *\n",
        "a = range(1, loops)\n",
        "def f(x):\n",
        "  return 3 * log(x) + cos(x) ** 2\n",
        "%timeit r = [f(x) for x in a]"
      ],
      "execution_count": 14,
      "outputs": [
        {
          "output_type": "stream",
          "text": [
            "1 loop, best of 3: 10 s per loop\n"
          ],
          "name": "stdout"
        }
      ]
    },
    {
      "cell_type": "code",
      "metadata": {
        "colab": {
          "base_uri": "https://localhost:8080/"
        },
        "id": "CGwGIECBrpCh",
        "outputId": "4198c8de-6ce9-4f5b-88f6-5acf959be259"
      },
      "source": [
        "import numpy as np\n",
        "a = np.arange(1, loops)\n",
        "%timeit r = 3 * np.log(a) + np.cos(a) ** 2"
      ],
      "execution_count": 16,
      "outputs": [
        {
          "output_type": "stream",
          "text": [
            "1 loop, best of 3: 1.22 s per loop\n"
          ],
          "name": "stdout"
        }
      ]
    },
    {
      "cell_type": "code",
      "metadata": {
        "colab": {
          "base_uri": "https://localhost:8080/"
        },
        "id": "NZ9T0M2frzLU",
        "outputId": "da1d1b5c-e0f7-4245-c1f2-7a8695d74a2d"
      },
      "source": [
        "# 배열의 메모리 복사를 피하는 방법등을 사용하여 numpy 성능 향상\n",
        "import numexpr as ne  \n",
        "ne.set_num_threads(1)\n",
        "f = '3 * log(a) + cos(a) ** 2'\n",
        "%timeit r = ne.evaluate(f)"
      ],
      "execution_count": 17,
      "outputs": [
        {
          "output_type": "stream",
          "text": [
            "1 loop, best of 3: 1.11 s per loop\n"
          ],
          "name": "stdout"
        }
      ]
    },
    {
      "cell_type": "code",
      "metadata": {
        "colab": {
          "base_uri": "https://localhost:8080/"
        },
        "id": "5_clCOkqsISR",
        "outputId": "d53017a1-01dc-461b-e5cc-33c7b926318d"
      },
      "source": [
        "# 병렬처리 기능\n",
        "ne.set_num_threads(4)\n",
        "%timeit r = ne.evaluate(f)"
      ],
      "execution_count": 18,
      "outputs": [
        {
          "output_type": "stream",
          "text": [
            "1 loop, best of 3: 899 ms per loop\n"
          ],
          "name": "stdout"
        }
      ]
    },
    {
      "cell_type": "code",
      "metadata": {
        "colab": {
          "base_uri": "https://localhost:8080/"
        },
        "id": "nyZTZ0r-sOhJ",
        "outputId": "34f0b5c2-e592-44c7-8cdb-c27455069448"
      },
      "source": [
        "%time np.sin(np.arange(10000000))"
      ],
      "execution_count": 19,
      "outputs": [
        {
          "output_type": "stream",
          "text": [
            "CPU times: user 256 ms, sys: 920 µs, total: 257 ms\n",
            "Wall time: 264 ms\n"
          ],
          "name": "stdout"
        },
        {
          "output_type": "execute_result",
          "data": {
            "text/plain": [
              "array([ 0.        ,  0.84147098,  0.90929743, ..., -0.28830516,\n",
              "        0.64996899,  0.99066465])"
            ]
          },
          "metadata": {
            "tags": []
          },
          "execution_count": 19
        }
      ]
    },
    {
      "cell_type": "code",
      "metadata": {
        "colab": {
          "base_uri": "https://localhost:8080/"
        },
        "id": "vhCYxoswxDBv",
        "outputId": "a643adeb-db67-4424-d94f-31780b39e5f5"
      },
      "source": [
        "%prun np.sin(np.arange(100000000))"
      ],
      "execution_count": 20,
      "outputs": [
        {
          "output_type": "stream",
          "text": [
            " "
          ],
          "name": "stdout"
        }
      ]
    }
  ]
}